{
 "cells": [
  {
   "cell_type": "code",
   "execution_count": 4,
   "id": "16deac9a",
   "metadata": {},
   "outputs": [
    {
     "name": "stdout",
     "output_type": "stream",
     "text": [
      "Requirement already satisfied: stable-baselines3[extra] in c:\\users\\raamkishore\\appdata\\local\\programs\\python\\python310\\lib\\site-packages (1.4.0)\n",
      "Requirement already satisfied: gym<0.20,>=0.17 in c:\\users\\raamkishore\\appdata\\local\\programs\\python\\python310\\lib\\site-packages (from stable-baselines3[extra]) (0.19.0)\n",
      "Requirement already satisfied: cloudpickle in c:\\users\\raamkishore\\appdata\\local\\programs\\python\\python310\\lib\\site-packages (from stable-baselines3[extra]) (1.6.0)\n",
      "Requirement already satisfied: numpy in c:\\users\\raamkishore\\appdata\\local\\programs\\python\\python310\\lib\\site-packages (from stable-baselines3[extra]) (1.22.3)\n",
      "Requirement already satisfied: matplotlib in c:\\users\\raamkishore\\appdata\\local\\programs\\python\\python310\\lib\\site-packages (from stable-baselines3[extra]) (3.5.1)\n",
      "Requirement already satisfied: torch>=1.8.1 in c:\\users\\raamkishore\\appdata\\local\\programs\\python\\python310\\lib\\site-packages (from stable-baselines3[extra]) (1.11.0)\n",
      "Requirement already satisfied: pandas in c:\\users\\raamkishore\\appdata\\local\\programs\\python\\python310\\lib\\site-packages (from stable-baselines3[extra]) (1.4.1)\n",
      "Requirement already satisfied: opencv-python in c:\\users\\raamkishore\\appdata\\local\\programs\\python\\python310\\lib\\site-packages (from stable-baselines3[extra]) (4.5.5.64)\n",
      "Requirement already satisfied: atari-py==0.2.6 in c:\\users\\raamkishore\\appdata\\local\\programs\\python\\python310\\lib\\site-packages (from stable-baselines3[extra]) (0.2.6)\n",
      "Requirement already satisfied: pillow in c:\\users\\raamkishore\\appdata\\local\\programs\\python\\python310\\lib\\site-packages (from stable-baselines3[extra]) (9.0.1)\n",
      "Requirement already satisfied: psutil in c:\\users\\raamkishore\\appdata\\local\\programs\\python\\python310\\lib\\site-packages (from stable-baselines3[extra]) (5.9.0)\n",
      "Requirement already satisfied: tensorboard>=2.2.0 in c:\\users\\raamkishore\\appdata\\local\\programs\\python\\python310\\lib\\site-packages (from stable-baselines3[extra]) (2.8.0)\n",
      "Requirement already satisfied: six in c:\\users\\raamkishore\\appdata\\local\\programs\\python\\python310\\lib\\site-packages (from atari-py==0.2.6->stable-baselines3[extra]) (1.16.0)\n",
      "Requirement already satisfied: google-auth-oauthlib<0.5,>=0.4.1 in c:\\users\\raamkishore\\appdata\\local\\programs\\python\\python310\\lib\\site-packages (from tensorboard>=2.2.0->stable-baselines3[extra]) (0.4.6)\n",
      "Requirement already satisfied: google-auth<3,>=1.6.3 in c:\\users\\raamkishore\\appdata\\local\\programs\\python\\python310\\lib\\site-packages (from tensorboard>=2.2.0->stable-baselines3[extra]) (2.6.2)\n",
      "Requirement already satisfied: werkzeug>=0.11.15 in c:\\users\\raamkishore\\appdata\\local\\programs\\python\\python310\\lib\\site-packages (from tensorboard>=2.2.0->stable-baselines3[extra]) (2.0.3)\n",
      "Requirement already satisfied: tensorboard-data-server<0.7.0,>=0.6.0 in c:\\users\\raamkishore\\appdata\\local\\programs\\python\\python310\\lib\\site-packages (from tensorboard>=2.2.0->stable-baselines3[extra]) (0.6.1)\n",
      "Requirement already satisfied: absl-py>=0.4 in c:\\users\\raamkishore\\appdata\\local\\programs\\python\\python310\\lib\\site-packages (from tensorboard>=2.2.0->stable-baselines3[extra]) (1.0.0)\n",
      "Requirement already satisfied: protobuf>=3.6.0 in c:\\users\\raamkishore\\appdata\\local\\programs\\python\\python310\\lib\\site-packages (from tensorboard>=2.2.0->stable-baselines3[extra]) (3.19.4)\n",
      "Requirement already satisfied: grpcio>=1.24.3 in c:\\users\\raamkishore\\appdata\\local\\programs\\python\\python310\\lib\\site-packages (from tensorboard>=2.2.0->stable-baselines3[extra]) (1.44.0)\n",
      "Requirement already satisfied: requests<3,>=2.21.0 in c:\\users\\raamkishore\\appdata\\local\\programs\\python\\python310\\lib\\site-packages (from tensorboard>=2.2.0->stable-baselines3[extra]) (2.27.1)\n",
      "Requirement already satisfied: setuptools>=41.0.0 in c:\\users\\raamkishore\\appdata\\local\\programs\\python\\python310\\lib\\site-packages (from tensorboard>=2.2.0->stable-baselines3[extra]) (58.1.0)\n",
      "Requirement already satisfied: markdown>=2.6.8 in c:\\users\\raamkishore\\appdata\\local\\programs\\python\\python310\\lib\\site-packages (from tensorboard>=2.2.0->stable-baselines3[extra]) (3.3.6)\n",
      "Requirement already satisfied: tensorboard-plugin-wit>=1.6.0 in c:\\users\\raamkishore\\appdata\\local\\programs\\python\\python310\\lib\\site-packages (from tensorboard>=2.2.0->stable-baselines3[extra]) (1.8.1)\n",
      "Requirement already satisfied: wheel>=0.26 in c:\\users\\raamkishore\\appdata\\local\\programs\\python\\python310\\lib\\site-packages (from tensorboard>=2.2.0->stable-baselines3[extra]) (0.37.1)\n",
      "Requirement already satisfied: typing-extensions in c:\\users\\raamkishore\\appdata\\local\\programs\\python\\python310\\lib\\site-packages (from torch>=1.8.1->stable-baselines3[extra]) (4.1.1)\n",
      "Requirement already satisfied: fonttools>=4.22.0 in c:\\users\\raamkishore\\appdata\\local\\programs\\python\\python310\\lib\\site-packages (from matplotlib->stable-baselines3[extra]) (4.31.2)\n",
      "Requirement already satisfied: kiwisolver>=1.0.1 in c:\\users\\raamkishore\\appdata\\local\\programs\\python\\python310\\lib\\site-packages (from matplotlib->stable-baselines3[extra]) (1.4.0)\n",
      "Requirement already satisfied: cycler>=0.10 in c:\\users\\raamkishore\\appdata\\local\\programs\\python\\python310\\lib\\site-packages (from matplotlib->stable-baselines3[extra]) (0.11.0)\n",
      "Requirement already satisfied: packaging>=20.0 in c:\\users\\raamkishore\\appdata\\local\\programs\\python\\python310\\lib\\site-packages (from matplotlib->stable-baselines3[extra]) (21.3)\n",
      "Requirement already satisfied: python-dateutil>=2.7 in c:\\users\\raamkishore\\appdata\\local\\programs\\python\\python310\\lib\\site-packages (from matplotlib->stable-baselines3[extra]) (2.8.2)\n",
      "Requirement already satisfied: pyparsing>=2.2.1 in c:\\users\\raamkishore\\appdata\\local\\programs\\python\\python310\\lib\\site-packages (from matplotlib->stable-baselines3[extra]) (3.0.7)\n",
      "Requirement already satisfied: pytz>=2020.1 in c:\\users\\raamkishore\\appdata\\local\\programs\\python\\python310\\lib\\site-packages (from pandas->stable-baselines3[extra]) (2022.1)\n",
      "Requirement already satisfied: pyasn1-modules>=0.2.1 in c:\\users\\raamkishore\\appdata\\local\\programs\\python\\python310\\lib\\site-packages (from google-auth<3,>=1.6.3->tensorboard>=2.2.0->stable-baselines3[extra]) (0.2.8)\n",
      "Requirement already satisfied: rsa<5,>=3.1.4 in c:\\users\\raamkishore\\appdata\\local\\programs\\python\\python310\\lib\\site-packages (from google-auth<3,>=1.6.3->tensorboard>=2.2.0->stable-baselines3[extra]) (4.8)\n",
      "Requirement already satisfied: cachetools<6.0,>=2.0.0 in c:\\users\\raamkishore\\appdata\\local\\programs\\python\\python310\\lib\\site-packages (from google-auth<3,>=1.6.3->tensorboard>=2.2.0->stable-baselines3[extra]) (5.0.0)\n",
      "Requirement already satisfied: requests-oauthlib>=0.7.0 in c:\\users\\raamkishore\\appdata\\local\\programs\\python\\python310\\lib\\site-packages (from google-auth-oauthlib<0.5,>=0.4.1->tensorboard>=2.2.0->stable-baselines3[extra]) (1.3.1)\n",
      "Requirement already satisfied: certifi>=2017.4.17 in c:\\users\\raamkishore\\appdata\\local\\programs\\python\\python310\\lib\\site-packages (from requests<3,>=2.21.0->tensorboard>=2.2.0->stable-baselines3[extra]) (2021.10.8)\n",
      "Requirement already satisfied: urllib3<1.27,>=1.21.1 in c:\\users\\raamkishore\\appdata\\local\\programs\\python\\python310\\lib\\site-packages (from requests<3,>=2.21.0->tensorboard>=2.2.0->stable-baselines3[extra]) (1.26.9)\n",
      "Requirement already satisfied: charset-normalizer~=2.0.0 in c:\\users\\raamkishore\\appdata\\local\\programs\\python\\python310\\lib\\site-packages (from requests<3,>=2.21.0->tensorboard>=2.2.0->stable-baselines3[extra]) (2.0.12)\n",
      "Requirement already satisfied: idna<4,>=2.5 in c:\\users\\raamkishore\\appdata\\local\\programs\\python\\python310\\lib\\site-packages (from requests<3,>=2.21.0->tensorboard>=2.2.0->stable-baselines3[extra]) (3.3)\n",
      "Requirement already satisfied: pyasn1<0.5.0,>=0.4.6 in c:\\users\\raamkishore\\appdata\\local\\programs\\python\\python310\\lib\\site-packages (from pyasn1-modules>=0.2.1->google-auth<3,>=1.6.3->tensorboard>=2.2.0->stable-baselines3[extra]) (0.4.8)\n",
      "Requirement already satisfied: oauthlib>=3.0.0 in c:\\users\\raamkishore\\appdata\\local\\programs\\python\\python310\\lib\\site-packages (from requests-oauthlib>=0.7.0->google-auth-oauthlib<0.5,>=0.4.1->tensorboard>=2.2.0->stable-baselines3[extra]) (3.2.0)\n",
      "Requirement already satisfied: pyglet in c:\\users\\raamkishore\\appdata\\local\\programs\\python\\python310\\lib\\site-packages (1.5.23)\n"
     ]
    }
   ],
   "source": [
    "# Installing Dependencies\n",
    "!pip install stable-baselines3[extra]\n",
    "!pip install pyglet"
   ]
  },
  {
   "cell_type": "code",
   "execution_count": 5,
   "id": "d97facf0",
   "metadata": {},
   "outputs": [],
   "source": [
    "# Importing necessary packages\n",
    "import os\n",
    "import gym\n",
    "from stable_baselines3 import PPO\n",
    "from stable_baselines3.common.vec_env import DummyVecEnv\n",
    "from stable_baselines3.common.evaluation import evaluate_policy"
   ]
  },
  {
   "cell_type": "code",
   "execution_count": 6,
   "id": "cec026eb",
   "metadata": {},
   "outputs": [],
   "source": [
    "# Load Environment\n",
    "environment_name = 'CartPole-v0'\n",
    "env = gym.make(environment_name)"
   ]
  },
  {
   "cell_type": "code",
   "execution_count": 7,
   "id": "53912ea3",
   "metadata": {},
   "outputs": [
    {
     "name": "stdout",
     "output_type": "stream",
     "text": [
      "Episode:1 Score:15.0\n",
      "Episode:2 Score:30.0\n",
      "Episode:3 Score:49.0\n",
      "Episode:4 Score:27.0\n",
      "Episode:5 Score:21.0\n"
     ]
    }
   ],
   "source": [
    "episodes = 5\n",
    "for episode in range(1, episodes+1):\n",
    "    state = env.reset()\n",
    "    done = False\n",
    "    score = 0\n",
    "    \n",
    "    while not done:\n",
    "        env.render()\n",
    "        action = env.action_space.sample()    #Randomly selects an action (0 or 1)\n",
    "        n_state, reward, done, info = env.step(action)\n",
    "        score += reward\n",
    "    print('Episode:{} Score:{}'.format(episode, score))\n",
    "env.close()"
   ]
  },
  {
   "cell_type": "code",
   "execution_count": 9,
   "id": "4a8c971b",
   "metadata": {},
   "outputs": [
    {
     "name": "stdout",
     "output_type": "stream",
     "text": [
      "Using cpu device\n"
     ]
    }
   ],
   "source": [
    "# Training an RL Model\n",
    "log_path = os.path.join('Training', 'Logs')\n",
    "\n",
    "env = gym.make(environment_name)\n",
    "env = DummyVecEnv([lambda: env]) \n",
    "model = PPO('MlpPolicy', env, verbose=1, tensorboard_log=log_path) #Algorithm"
   ]
  },
  {
   "cell_type": "code",
   "execution_count": 11,
   "id": "3948d80f",
   "metadata": {
    "collapsed": true
   },
   "outputs": [
    {
     "name": "stdout",
     "output_type": "stream",
     "text": [
      "Logging to Training\\Logs\\PPO_2\n",
      "-----------------------------\n",
      "| time/              |      |\n",
      "|    fps             | 1660 |\n",
      "|    iterations      | 1    |\n",
      "|    time_elapsed    | 1    |\n",
      "|    total_timesteps | 2048 |\n",
      "-----------------------------\n",
      "------------------------------------------\n",
      "| time/                   |              |\n",
      "|    fps                  | 922          |\n",
      "|    iterations           | 2            |\n",
      "|    time_elapsed         | 4            |\n",
      "|    total_timesteps      | 4096         |\n",
      "| train/                  |              |\n",
      "|    approx_kl            | 0.0060161864 |\n",
      "|    clip_fraction        | 0.0529       |\n",
      "|    clip_range           | 0.2          |\n",
      "|    entropy_loss         | -0.533       |\n",
      "|    explained_variance   | 0.805        |\n",
      "|    learning_rate        | 0.0003       |\n",
      "|    loss                 | 9.53         |\n",
      "|    n_updates            | 110          |\n",
      "|    policy_gradient_loss | -0.00618     |\n",
      "|    value_loss           | 17.6         |\n",
      "------------------------------------------\n",
      "------------------------------------------\n",
      "| time/                   |              |\n",
      "|    fps                  | 818          |\n",
      "|    iterations           | 3            |\n",
      "|    time_elapsed         | 7            |\n",
      "|    total_timesteps      | 6144         |\n",
      "| train/                  |              |\n",
      "|    approx_kl            | 0.0028264304 |\n",
      "|    clip_fraction        | 0.0204       |\n",
      "|    clip_range           | 0.2          |\n",
      "|    entropy_loss         | -0.528       |\n",
      "|    explained_variance   | 0.351        |\n",
      "|    learning_rate        | 0.0003       |\n",
      "|    loss                 | 5.45         |\n",
      "|    n_updates            | 120          |\n",
      "|    policy_gradient_loss | -0.00299     |\n",
      "|    value_loss           | 27.2         |\n",
      "------------------------------------------\n",
      "-----------------------------------------\n",
      "| time/                   |             |\n",
      "|    fps                  | 778         |\n",
      "|    iterations           | 4           |\n",
      "|    time_elapsed         | 10          |\n",
      "|    total_timesteps      | 8192        |\n",
      "| train/                  |             |\n",
      "|    approx_kl            | 0.005646419 |\n",
      "|    clip_fraction        | 0.0403      |\n",
      "|    clip_range           | 0.2         |\n",
      "|    entropy_loss         | -0.506      |\n",
      "|    explained_variance   | 0.0583      |\n",
      "|    learning_rate        | 0.0003      |\n",
      "|    loss                 | 0.339       |\n",
      "|    n_updates            | 130         |\n",
      "|    policy_gradient_loss | -0.00193    |\n",
      "|    value_loss           | 2.93        |\n",
      "-----------------------------------------\n",
      "-----------------------------------------\n",
      "| time/                   |             |\n",
      "|    fps                  | 750         |\n",
      "|    iterations           | 5           |\n",
      "|    time_elapsed         | 13          |\n",
      "|    total_timesteps      | 10240       |\n",
      "| train/                  |             |\n",
      "|    approx_kl            | 0.003323875 |\n",
      "|    clip_fraction        | 0.0191      |\n",
      "|    clip_range           | 0.2         |\n",
      "|    entropy_loss         | -0.488      |\n",
      "|    explained_variance   | 0.0461      |\n",
      "|    learning_rate        | 0.0003      |\n",
      "|    loss                 | 0.212       |\n",
      "|    n_updates            | 140         |\n",
      "|    policy_gradient_loss | -0.000849   |\n",
      "|    value_loss           | 2.03        |\n",
      "-----------------------------------------\n",
      "------------------------------------------\n",
      "| time/                   |              |\n",
      "|    fps                  | 727          |\n",
      "|    iterations           | 6            |\n",
      "|    time_elapsed         | 16           |\n",
      "|    total_timesteps      | 12288        |\n",
      "| train/                  |              |\n",
      "|    approx_kl            | 0.0036443335 |\n",
      "|    clip_fraction        | 0.023        |\n",
      "|    clip_range           | 0.2          |\n",
      "|    entropy_loss         | -0.487       |\n",
      "|    explained_variance   | 0.0256       |\n",
      "|    learning_rate        | 0.0003       |\n",
      "|    loss                 | 0.248        |\n",
      "|    n_updates            | 150          |\n",
      "|    policy_gradient_loss | -0.0014      |\n",
      "|    value_loss           | 1.3          |\n",
      "------------------------------------------\n",
      "------------------------------------------\n",
      "| time/                   |              |\n",
      "|    fps                  | 707          |\n",
      "|    iterations           | 7            |\n",
      "|    time_elapsed         | 20           |\n",
      "|    total_timesteps      | 14336        |\n",
      "| train/                  |              |\n",
      "|    approx_kl            | 0.0028164387 |\n",
      "|    clip_fraction        | 0.0122       |\n",
      "|    clip_range           | 0.2          |\n",
      "|    entropy_loss         | -0.487       |\n",
      "|    explained_variance   | 0.0189       |\n",
      "|    learning_rate        | 0.0003       |\n",
      "|    loss                 | 0.084        |\n",
      "|    n_updates            | 160          |\n",
      "|    policy_gradient_loss | -0.00108     |\n",
      "|    value_loss           | 0.889        |\n",
      "------------------------------------------\n",
      "------------------------------------------\n",
      "| time/                   |              |\n",
      "|    fps                  | 702          |\n",
      "|    iterations           | 8            |\n",
      "|    time_elapsed         | 23           |\n",
      "|    total_timesteps      | 16384        |\n",
      "| train/                  |              |\n",
      "|    approx_kl            | 0.0027066283 |\n",
      "|    clip_fraction        | 0.00937      |\n",
      "|    clip_range           | 0.2          |\n",
      "|    entropy_loss         | -0.48        |\n",
      "|    explained_variance   | 0.144        |\n",
      "|    learning_rate        | 0.0003       |\n",
      "|    loss                 | 0.0339       |\n",
      "|    n_updates            | 170          |\n",
      "|    policy_gradient_loss | -0.000269    |\n",
      "|    value_loss           | 0.561        |\n",
      "------------------------------------------\n",
      "------------------------------------------\n",
      "| time/                   |              |\n",
      "|    fps                  | 689          |\n",
      "|    iterations           | 9            |\n",
      "|    time_elapsed         | 26           |\n",
      "|    total_timesteps      | 18432        |\n",
      "| train/                  |              |\n",
      "|    approx_kl            | 0.0046203625 |\n",
      "|    clip_fraction        | 0.0294       |\n",
      "|    clip_range           | 0.2          |\n",
      "|    entropy_loss         | -0.481       |\n",
      "|    explained_variance   | 0.314        |\n",
      "|    learning_rate        | 0.0003       |\n",
      "|    loss                 | 0.0475       |\n",
      "|    n_updates            | 180          |\n",
      "|    policy_gradient_loss | -0.00251     |\n",
      "|    value_loss           | 0.356        |\n",
      "------------------------------------------\n",
      "------------------------------------------\n",
      "| time/                   |              |\n",
      "|    fps                  | 679          |\n",
      "|    iterations           | 10           |\n",
      "|    time_elapsed         | 30           |\n",
      "|    total_timesteps      | 20480        |\n",
      "| train/                  |              |\n",
      "|    approx_kl            | 0.0033667013 |\n",
      "|    clip_fraction        | 0.0193       |\n",
      "|    clip_range           | 0.2          |\n",
      "|    entropy_loss         | -0.496       |\n",
      "|    explained_variance   | 0.000721     |\n",
      "|    learning_rate        | 0.0003       |\n",
      "|    loss                 | 0.0356       |\n",
      "|    n_updates            | 190          |\n",
      "|    policy_gradient_loss | -0.000617    |\n",
      "|    value_loss           | 0.254        |\n",
      "------------------------------------------\n"
     ]
    },
    {
     "data": {
      "text/plain": [
       "<stable_baselines3.ppo.ppo.PPO at 0x214929bfcd0>"
      ]
     },
     "execution_count": 11,
     "metadata": {},
     "output_type": "execute_result"
    }
   ],
   "source": [
    "model.learn(total_timesteps=20000)"
   ]
  },
  {
   "cell_type": "code",
   "execution_count": 15,
   "id": "bff3d8ed",
   "metadata": {},
   "outputs": [],
   "source": [
    "# Save Model\n",
    "PPO_Path = os.path.join('Training', 'Saved_Models', 'PPO_Model_Cartpole')\n",
    "model.save(PPO_Path)\n",
    "\n",
    "# Reload Model\n",
    "#model = PPO.load(PPO_Path, env=env)"
   ]
  },
  {
   "cell_type": "code",
   "execution_count": 18,
   "id": "e06a2bd0",
   "metadata": {},
   "outputs": [],
   "source": [
    "# Evaluation\n",
    "evaluate_policy(model, env, n_eval_episodes=10, render=True)\n",
    "env.close()"
   ]
  },
  {
   "cell_type": "code",
   "execution_count": 19,
   "id": "123d5722",
   "metadata": {},
   "outputs": [
    {
     "name": "stdout",
     "output_type": "stream",
     "text": [
      "Episode:1 Score:[200.]\n",
      "Episode:2 Score:[200.]\n",
      "Episode:3 Score:[200.]\n",
      "Episode:4 Score:[200.]\n",
      "Episode:5 Score:[200.]\n"
     ]
    }
   ],
   "source": [
    "# Testing model\n",
    "episodes = 5\n",
    "for episode in range(1, episodes+1):\n",
    "    obs = env.reset()\n",
    "    done = False\n",
    "    score = 0\n",
    "    \n",
    "    while not done:\n",
    "        env.render()\n",
    "        action, _ = model.predict(obs)    #Using model to predict the correct action\n",
    "        obs, reward, done, info = env.step(action)\n",
    "        score += reward\n",
    "    print('Episode:{} Score:{}'.format(episode, score))\n",
    "env.close()"
   ]
  },
  {
   "cell_type": "code",
   "execution_count": null,
   "id": "fcb54647",
   "metadata": {},
   "outputs": [],
   "source": []
  }
 ],
 "metadata": {
  "kernelspec": {
   "display_name": "Python 3 (ipykernel)",
   "language": "python",
   "name": "python3"
  },
  "language_info": {
   "codemirror_mode": {
    "name": "ipython",
    "version": 3
   },
   "file_extension": ".py",
   "mimetype": "text/x-python",
   "name": "python",
   "nbconvert_exporter": "python",
   "pygments_lexer": "ipython3",
   "version": "3.10.4"
  }
 },
 "nbformat": 4,
 "nbformat_minor": 5
}
